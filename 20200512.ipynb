{
 "cells": [
  {
   "cell_type": "code",
   "execution_count": 31,
   "metadata": {},
   "outputs": [],
   "source": [
    "import numpy as np\n",
    "import matplotlib.pyplot as plt"
   ]
  },
  {
   "cell_type": "code",
   "execution_count": 32,
   "metadata": {},
   "outputs": [],
   "source": [
    "# creating a vector of 1000 random values from  N(2, 7)\n",
    "dist = np.random.normal(2, 7, 1000)\n",
    "# creating a noisy vector of 50 random values from N(70, 50)\n",
    "noise = np.random.normal(20, 70, 50)\n",
    "# disturbing dist with noise\n",
    "disturbed = np.append(dist, noise)"
   ]
  },
  {
   "cell_type": "code",
   "execution_count": 33,
   "metadata": {},
   "outputs": [],
   "source": [
    "# plotting these vectors\n",
    "%matplotlib qt\n",
    "plt.figure()\n",
    "plt.subplot(2, 2, 1)\n",
    "plt.hist(dist, 1000)\n",
    "plt.subplot(2, 2, 2)\n",
    "plt.hist(noise, 50)\n",
    "plt.subplot(2, 2, 3)\n",
    "plt.hist(disturbed, 1050)\n",
    "plt.show()"
   ]
  },
  {
   "cell_type": "code",
   "execution_count": 69,
   "metadata": {},
   "outputs": [
    {
     "name": "stdout",
     "output_type": "stream",
     "text": [
      "2.157486341346876 2.2342545475030535 -2.550611703865295 6.668636548358989 9.219248252224283\n"
     ]
    }
   ],
   "source": [
    "# clean summary statistics\n",
    "distMean = np.mean(dist)\n",
    "distMedian = np.median(dist)\n",
    "distQ1 = np.percentile(dist, 25)\n",
    "distQ3 = np.percentile(dist, 75)\n",
    "distIR = distQ3 - distQ1\n",
    "print(distMean, distMedian, distQ1, distQ3, distIR)"
   ]
  },
  {
   "cell_type": "code",
   "execution_count": 70,
   "metadata": {},
   "outputs": [
    {
     "name": "stdout",
     "output_type": "stream",
     "text": [
      "2.6629463607989323 2.2294095654668844 -2.7877352168138376 6.932505974458775 9.720241191272613\n"
     ]
    }
   ],
   "source": [
    "# noisy summary statistics\n",
    "disturbedMean = np.mean(disturbed)\n",
    "disturbedMedian = np.median(disturbed)\n",
    "disturbedQ1 = np.percentile(disturbed, 25)\n",
    "disturbedQ3 = np.percentile(disturbed, 75)\n",
    "disturbedIR = disturbedQ3 - disturbedQ1\n",
    "print(disturbedMean, disturbedMedian, disturbedQ1, disturbedQ3, disturbedIR)"
   ]
  },
  {
   "cell_type": "code",
   "execution_count": 71,
   "metadata": {},
   "outputs": [],
   "source": [
    "# filtering the noise\n",
    "disturbedFilterOne = np.array([]) #filter [Q1, Q3]\n",
    "disturbedFilterTwo = np.array([]) #filter [Q1 - 1.5IR, Q3 + 1.5IR]\n",
    "for d in disturbed:\n",
    "    if d >= disturbedQ1 and d <= disturbedQ2:\n",
    "        disturbedFilterOne = np.append(disturbedFilterOne, d)\n",
    "    if d >= disturbedQ1 - disturbedIR * 1.5 and d <= disturbedQ2 + disturbedIR * 1.5 :\n",
    "        disturbedFilterTwo = np.append(disturbedFilterTwo, d)\n"
   ]
  },
  {
   "cell_type": "code",
   "execution_count": 72,
   "metadata": {},
   "outputs": [],
   "source": [
    "# plotting filters\n",
    "plt.figure()\n",
    "plt.subplot(1, 2, 1)\n",
    "plt.hist(disturbedFilterOne, len(disturbedFilterOne))\n",
    "plt.subplot(1, 2, 2)\n",
    "plt.hist(disturbedFilterTwo, len(disturbedFilterTwo))\n",
    "plt.show()"
   ]
  },
  {
   "cell_type": "code",
   "execution_count": 73,
   "metadata": {},
   "outputs": [
    {
     "name": "stdout",
     "output_type": "stream",
     "text": [
      "-0.12199291380565878 0.02952027181432837 -1.2136045885287403 1.107363729915094 2.3209683184438346 788\n",
      "1.7189345670892446 2.062853758134737 -2.666700303105625 6.3957073571443175 9.062407660249942 66\n"
     ]
    }
   ],
   "source": [
    "# summary statistics for filter one\n",
    "filterOneMean = np.mean(disturbedFilterOne)\n",
    "filterOneMedian = np.median(disturbedFilterOne)\n",
    "filterOneQ1 = np.percentile(disturbedFilterOne, 25)\n",
    "filterOneQ3 = np.percentile(disturbedFilterOne, 75)\n",
    "filterOneIR = np.percentile(disturbedFilterOne, 75) - np.percentile(disturbedFilterOne, 25)\n",
    "filterOneRemovedLen = len(disturbed) - len(disturbedFilterOne) # number of filtered values\n",
    "print(filterOneMean, filterOneMedian, filterOneQ1, filterOneQ3, filterOneIR, filterOneRemovedLen)\n",
    "# summary statistics for filter two\n",
    "filterTwoMean = np.mean(disturbedFilterTwo)\n",
    "filterTwoMedian = np.median(disturbedFilterTwo)\n",
    "filterTwoQ1 = np.percentile(disturbedFilterTwo, 25)\n",
    "filterTwoQ3 = np.percentile(disturbedFilterTwo, 75)\n",
    "filterTwoIR = np.percentile(disturbedFilterTwo, 75) - np.percentile(disturbedFilterTwo, 25)\n",
    "filterTwoRemovedLen = len(disturbed) - len(disturbedFilterTwo) # number of filtered values\n",
    "print(filterTwoMean, filterTwoMedian, filterTwoQ1, filterTwoQ3, filterTwoIR, filterTwoRemovedLen)"
   ]
  },
  {
   "cell_type": "code",
   "execution_count": 75,
   "metadata": {},
   "outputs": [
    {
     "name": "stdout",
     "output_type": "stream",
     "text": [
      "263 263\n",
      "22 26\n"
     ]
    }
   ],
   "source": [
    "# explaining filter one removal\n",
    "underQ1 = 0\n",
    "overQ3 = 0\n",
    "for d in disturbed:\n",
    "    if d <= disturbedQ1:\n",
    "        underQ1 = underQ1 + 1\n",
    "    if d >= disturbedQ3:\n",
    "        overQ3 = overQ3 + 1\n",
    "print(underQ1, overQ3)\n",
    "# explaining filter two removal\n",
    "underQ1 = 0\n",
    "overQ3 = 0\n",
    "for d in disturbed:\n",
    "    if d <= disturbedQ1 - 1.5*disturbedIR:\n",
    "        underQ1 = underQ1 + 1\n",
    "    if d >= disturbedQ3 + 1.5*disturbedIR:\n",
    "        overQ3 = overQ3 + 1\n",
    "print(underQ1, overQ3)"
   ]
  },
  {
   "cell_type": "code",
   "execution_count": 74,
   "metadata": {},
   "outputs": [],
   "source": [
    "# boxplotting original vector, noisy vector and filtered vectors to see which filter is better\n",
    "plt.figure()\n",
    "plt.subplot(2,2,1)\n",
    "plt.boxplot(dist)\n",
    "plt.subplot(2,2,2)\n",
    "plt.boxplot(disturbed)\n",
    "plt.subplot(2,2,3)\n",
    "plt.boxplot(disturbedFilterOne)\n",
    "plt.subplot(2,2,4)\n",
    "plt.boxplot(disturbedFilterTwo) # filter two wins\n",
    "plt.show()"
   ]
  },
  {
   "cell_type": "code",
   "execution_count": null,
   "metadata": {},
   "outputs": [],
   "source": []
  }
 ],
 "metadata": {
  "kernelspec": {
   "display_name": "Python 3",
   "language": "python",
   "name": "python3"
  },
  "language_info": {
   "codemirror_mode": {
    "name": "ipython",
    "version": 3
   },
   "file_extension": ".py",
   "mimetype": "text/x-python",
   "name": "python",
   "nbconvert_exporter": "python",
   "pygments_lexer": "ipython3",
   "version": "3.7.4"
  }
 },
 "nbformat": 4,
 "nbformat_minor": 2
}
