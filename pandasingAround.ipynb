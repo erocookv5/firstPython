{
 "cells": [
  {
   "cell_type": "code",
   "execution_count": 13,
   "metadata": {},
   "outputs": [
    {
     "name": "stdout",
     "output_type": "stream",
     "text": [
      "Series([], dtype: float64)\n"
     ]
    },
    {
     "name": "stderr",
     "output_type": "stream",
     "text": [
      "/home/matteo/anaconda3/lib/python3.7/site-packages/ipykernel_launcher.py:12: DeprecationWarning: The default dtype for empty Series will be 'object' instead of 'float64' in a future version. Specify a dtype explicitly to silence this warning.\n",
      "  if sys.path[0] == '':\n"
     ]
    }
   ],
   "source": [
    "# Pandas deals with the following three data structures built on top of Numpy array:\n",
    "# Series, DataFrame, Panel.\n",
    "\n",
    "import numpy as np\n",
    "import pandas as pd\n",
    "\n",
    "# Series\n",
    "# A Series can be defined as a one-dimensional array that is capable of storing various data types.\n",
    "# pd.Series(data, index, dtype, copy)\n",
    "\n",
    "# creating an empty Series\n",
    "sa = pd.Series()\n",
    "print(sa) # If you don't specify any dtype and any data, a series will be float.\n",
    "# That's why you see this weird output.\n",
    "\n"
   ]
  },
  {
   "cell_type": "code",
   "execution_count": 14,
   "metadata": {},
   "outputs": [
    {
     "data": {
      "text/plain": [
       "0                                                   12\n",
       "1                                                 2478\n",
       "2                                          (24.333-1j)\n",
       "3                                          hello world\n",
       "4    {'name': 'Matteo', 'surname': 'Di Cara', 'birt...\n",
       "dtype: object"
      ]
     },
     "execution_count": 14,
     "metadata": {},
     "output_type": "execute_result"
    }
   ],
   "source": [
    "l0 = [12.0, 2478, 24.333 - 1j, 'hello world', {\"name\": 'Matteo', \"surname\": 'Di Cara', \"birthday\": '13091992'}]\n",
    "sb = pd.Series(l0)\n",
    "sb\n",
    "# l is a mixed list passed as data. For this reason, dtype will be assigned dynamically.\n",
    "# In this case, it will be Object.\n",
    "# In any case, data can be any collection: list, dictionary, numpy array, etc."
   ]
  },
  {
   "cell_type": "code",
   "execution_count": 15,
   "metadata": {},
   "outputs": [
    {
     "data": {
      "text/plain": [
       "a                                                   12\n",
       "b                                                 2478\n",
       "c                                          (24.333-1j)\n",
       "d                                          hello world\n",
       "e    {'name': 'Matteo', 'surname': 'Di Cara', 'birt...\n",
       "dtype: object"
      ]
     },
     "execution_count": 15,
     "metadata": {},
     "output_type": "execute_result"
    }
   ],
   "source": [
    "l1 = [12.0, 2478, 24.333 - 1j, 'hello world', {\"name\": 'Matteo', \"surname\": 'Di Cara', \"birthday\": '13091992'}]\n",
    "i0 = ['a', 'b', 'c', 'd', 'e']\n",
    "sc = pd.Series(l1, i0)\n",
    "sc # By passing i0 too, series has customized indeces now. \n",
    "# However, index must be as long as data. Otherwise, it will cause a fatal error.   "
   ]
  },
  {
   "cell_type": "code",
   "execution_count": 16,
   "metadata": {},
   "outputs": [
    {
     "name": "stdout",
     "output_type": "stream",
     "text": [
      "a         NaN\n",
      "b         NaN\n",
      "10        NaN\n",
      "20        NaN\n",
      "(12-1j)   NaN\n",
      "dtype: float64\n",
      "a          Matteo\n",
      "b          Matteo\n",
      "10         Matteo\n",
      "20         Matteo\n",
      "(12-1j)    Matteo\n",
      "dtype: object\n"
     ]
    },
    {
     "name": "stderr",
     "output_type": "stream",
     "text": [
      "/home/matteo/anaconda3/lib/python3.7/site-packages/ipykernel_launcher.py:2: DeprecationWarning: The default dtype for empty Series will be 'object' instead of 'float64' in a future version. Specify a dtype explicitly to silence this warning.\n",
      "  \n"
     ]
    }
   ],
   "source": [
    "i1 = ['a', 'b', 10, 20, 12-1j]\n",
    "sd = pd.Series(index = i1)\n",
    "print(sd) # You can create a Series just passing on a customized index list.\n",
    "se = pd.Series('Matteo', i1)\n",
    "print(se) # If you pass just a simple value as data, it will be associated to every index."
   ]
  },
  {
   "cell_type": "code",
   "execution_count": 17,
   "metadata": {},
   "outputs": [
    {
     "name": "stdout",
     "output_type": "stream",
     "text": [
      "{'name': 'Matteo', 'surname': 'Di Cara', 'birthday': '13091992'}\n",
      "a                 12\n",
      "b               2478\n",
      "10.48    (24.333-1j)\n",
      "dtype: object\n",
      "a                 12\n",
      "b               2478\n",
      "10.48    (24.333-1j)\n",
      "dtype: object\n"
     ]
    }
   ],
   "source": [
    "# Accessing a series elements\n",
    "i2 = ['a', 'b', 10.48, 20, 12-1j] # indeces\n",
    "l1 = [12.0, 2478, 24.333 - 1j, 'hello world', {\"name\": 'Matteo', \"surname\": 'Di Cara', \"birthday\": '13091992'}] # data\n",
    "sf = pd.Series(l1, i2)\n",
    "print(sf[12-1j]) # prints a value of a series by its index\n",
    "print(sf[:3]) # prints all values of a series from 0 to 3. Every element has associated a numeric index too,\n",
    "# in case index is not numeric already, for advanced indexing operations.\n",
    "print(sf[:-2]) # prints all series elements but the last two."
   ]
  },
  {
   "cell_type": "code",
   "execution_count": 18,
   "metadata": {},
   "outputs": [
    {
     "name": "stdout",
     "output_type": "stream",
     "text": [
      "Empty DataFrame\n",
      "Columns: []\n",
      "Index: []\n"
     ]
    }
   ],
   "source": [
    "# A DataFrame is a two-dimensional data structure. \n",
    "# For this reason, data is aligned in a tabular fashion in rows and columns.\n",
    "# You can think of it as an SQL table or a spreadsheet data representation.\n",
    "# pd.DataFrame( data, index, columns, dtype, copy)\n",
    "\n",
    "# Empty DataFrane\n",
    "dfa = pd.DataFrame()\n",
    "print(dfa)"
   ]
  },
  {
   "cell_type": "code",
   "execution_count": 19,
   "metadata": {},
   "outputs": [
    {
     "name": "stdout",
     "output_type": "stream",
     "text": [
      "        0         1\n",
      "0    java  28000.80\n",
      "1     php  22275.85\n",
      "2  python  38032.75\n",
      "0      java\n",
      "1       php\n",
      "2    python\n",
      "Name: 0, dtype: object\n",
      "java\n"
     ]
    }
   ],
   "source": [
    "l2 = [['java', 28000.80],['php', 22275.85],['python', 38032.75]] # list of listes\n",
    "dfb = pd.DataFrame(l2)\n",
    "print(dfb)\n",
    "print(dfb[0]) # prints column 0\n",
    "print(dfb[0][0]) # prints cell (0,0)"
   ]
  },
  {
   "cell_type": "code",
   "execution_count": 20,
   "metadata": {},
   "outputs": [
    {
     "name": "stdout",
     "output_type": "stream",
     "text": [
      "  programming language  median salary\n",
      "0                 java       28000.80\n",
      "1                  php       22275.85\n",
      "2               python       38032.75\n",
      "0    28000.80\n",
      "1    22275.85\n",
      "2    38032.75\n",
      "Name: median salary, dtype: float64\n",
      "22275.85\n"
     ]
    }
   ],
   "source": [
    "l2 = [['java', 28000.80],['php', 22275.85],['python', 38032.75]]\n",
    "c0 = [\"programming language\", \"median salary\"]\n",
    "dfc = pd.DataFrame(l2, columns = c0,)\n",
    "print(dfc) # now it really looks like an sql table\n",
    "print(dfc['median salary']) # prints column 'median salary' and its' details\n",
    "print(dfc['median salary'][1])"
   ]
  },
  {
   "cell_type": "code",
   "execution_count": 21,
   "metadata": {},
   "outputs": [
    {
     "name": "stdout",
     "output_type": "stream",
     "text": [
      "           programming language  median salary\n",
      "scenario A                 java       28000.80\n",
      "scenario B                  php       22275.85\n",
      "scenario C               python       38032.75\n",
      "scenario A    28000.80\n",
      "scenario B    22275.85\n",
      "scenario C    38032.75\n",
      "Name: median salary, dtype: float64\n",
      "22275.85\n"
     ]
    }
   ],
   "source": [
    "l2 = [['java', 28000.80], ['php', 22275.85], ['python', 38032.75]]\n",
    "c0 = [\"programming language\", \"median salary\"]\n",
    "i3 = [\"scenario A\", \"scenario B\", \"scenario C\"]\n",
    "dfc = pd.DataFrame(l2, index = i3, columns = c0, dtype=float)\n",
    "print(dfc) # now it really looks like an sql table\n",
    "print(dfc['median salary']) # prints column 'median salary' and its' details\n",
    "print(dfc['median salary'][1])"
   ]
  },
  {
   "cell_type": "code",
   "execution_count": 40,
   "metadata": {},
   "outputs": [
    {
     "name": "stdout",
     "output_type": "stream",
     "text": [
      "                                   A    B    C    D\n",
      "buiseness field                  NaN  NaN  NaN  NaN\n",
      "median junior salary, year 2019  NaN  NaN  NaN  NaN\n"
     ]
    },
    {
     "data": {
      "text/html": [
       "<div>\n",
       "<style scoped>\n",
       "    .dataframe tbody tr th:only-of-type {\n",
       "        vertical-align: middle;\n",
       "    }\n",
       "\n",
       "    .dataframe tbody tr th {\n",
       "        vertical-align: top;\n",
       "    }\n",
       "\n",
       "    .dataframe thead th {\n",
       "        text-align: right;\n",
       "    }\n",
       "</style>\n",
       "<table border=\"1\" class=\"dataframe\">\n",
       "  <thead>\n",
       "    <tr style=\"text-align: right;\">\n",
       "      <th></th>\n",
       "      <th>A</th>\n",
       "      <th>B</th>\n",
       "      <th>C</th>\n",
       "      <th>D</th>\n",
       "    </tr>\n",
       "  </thead>\n",
       "  <tbody>\n",
       "    <tr>\n",
       "      <th>buiseness field</th>\n",
       "      <td>NaN</td>\n",
       "      <td>NaN</td>\n",
       "      <td>NaN</td>\n",
       "      <td>NaN</td>\n",
       "    </tr>\n",
       "    <tr>\n",
       "      <th>median junior salary, year 2019</th>\n",
       "      <td>NaN</td>\n",
       "      <td>NaN</td>\n",
       "      <td>NaN</td>\n",
       "      <td>NaN</td>\n",
       "    </tr>\n",
       "  </tbody>\n",
       "</table>\n",
       "</div>"
      ],
      "text/plain": [
       "                                   A    B    C    D\n",
       "buiseness field                  NaN  NaN  NaN  NaN\n",
       "median junior salary, year 2019  NaN  NaN  NaN  NaN"
      ]
     },
     "execution_count": 40,
     "metadata": {},
     "output_type": "execute_result"
    }
   ],
   "source": [
    "# Just to be short, a dataframe is a list of series with two indexes. \n",
    "\n",
    "d0 = { # list of dictionaries\n",
    "    \"curve 1\": ['app development', 28000.80],  \n",
    "    \"curve 2\": ['wordpress websites', 22275.85], \n",
    "    \"curve 3\": ['data analysis', 38032.75], \n",
    "    \"curve 4\": 24886.32 # only one float value here, on purpose \n",
    "} \n",
    "i4 = [\"buiseness field\", \"median junior salary, year 2019\"]\n",
    "dfd = pd.DataFrame(d0, index = i4) \n",
    "print(dfd)\n",
    "dfd # look at 'scenario D' column"
   ]
  },
  {
   "cell_type": "code",
   "execution_count": 42,
   "metadata": {},
   "outputs": [
    {
     "name": "stdout",
     "output_type": "stream",
     "text": [
      "                                   A    B    C    D\n",
      "buiseness field                  NaN  NaN  NaN  NaN\n",
      "median junior salary, year 2019  NaN  NaN  NaN  NaN\n"
     ]
    },
    {
     "data": {
      "text/html": [
       "<div>\n",
       "<style scoped>\n",
       "    .dataframe tbody tr th:only-of-type {\n",
       "        vertical-align: middle;\n",
       "    }\n",
       "\n",
       "    .dataframe tbody tr th {\n",
       "        vertical-align: top;\n",
       "    }\n",
       "\n",
       "    .dataframe thead th {\n",
       "        text-align: right;\n",
       "    }\n",
       "</style>\n",
       "<table border=\"1\" class=\"dataframe\">\n",
       "  <thead>\n",
       "    <tr style=\"text-align: right;\">\n",
       "      <th></th>\n",
       "      <th>A</th>\n",
       "      <th>B</th>\n",
       "      <th>C</th>\n",
       "      <th>D</th>\n",
       "    </tr>\n",
       "  </thead>\n",
       "  <tbody>\n",
       "    <tr>\n",
       "      <th>buiseness field</th>\n",
       "      <td>NaN</td>\n",
       "      <td>NaN</td>\n",
       "      <td>NaN</td>\n",
       "      <td>NaN</td>\n",
       "    </tr>\n",
       "    <tr>\n",
       "      <th>median junior salary, year 2019</th>\n",
       "      <td>NaN</td>\n",
       "      <td>NaN</td>\n",
       "      <td>NaN</td>\n",
       "      <td>NaN</td>\n",
       "    </tr>\n",
       "  </tbody>\n",
       "</table>\n",
       "</div>"
      ],
      "text/plain": [
       "                                   A    B    C    D\n",
       "buiseness field                  NaN  NaN  NaN  NaN\n",
       "median junior salary, year 2019  NaN  NaN  NaN  NaN"
      ]
     },
     "execution_count": 42,
     "metadata": {},
     "output_type": "execute_result"
    }
   ],
   "source": [
    "d0 = { # list of dictionaries\n",
    "    \"curve 1\": ['app development', 28000.80],  \n",
    "    \"curve 2\": ['wordpress websites', 22275.85], \n",
    "    \"curve 3\": ['data analysis', 38032.75], \n",
    "    \"curve 4\": 24886.32 # only one float value here, on purpose \n",
    "} \n",
    "i4 = [\"buiseness field\", \"median junior salary, year 2019\"]\n",
    "c1 = [\"A\", \"B\", \"C\", \"D\"]\n",
    "dfd = pd.DataFrame(d0, index = i4, columns = c1) \n",
    "print(dfd) # what happens if I want to impose other column names over d0 indeces\n",
    "dfd"
   ]
  },
  {
   "cell_type": "code",
   "execution_count": 73,
   "metadata": {},
   "outputs": [
    {
     "data": {
      "text/html": [
       "<div>\n",
       "<style scoped>\n",
       "    .dataframe tbody tr th:only-of-type {\n",
       "        vertical-align: middle;\n",
       "    }\n",
       "\n",
       "    .dataframe tbody tr th {\n",
       "        vertical-align: top;\n",
       "    }\n",
       "\n",
       "    .dataframe thead th {\n",
       "        text-align: right;\n",
       "    }\n",
       "</style>\n",
       "<table border=\"1\" class=\"dataframe\">\n",
       "  <thead>\n",
       "    <tr style=\"text-align: right;\">\n",
       "      <th></th>\n",
       "      <th>one</th>\n",
       "      <th>two</th>\n",
       "      <th>nine</th>\n",
       "      <th>eleven</th>\n",
       "      <th>three</th>\n",
       "    </tr>\n",
       "  </thead>\n",
       "  <tbody>\n",
       "    <tr>\n",
       "      <th>r1</th>\n",
       "      <td>1.0</td>\n",
       "      <td>2.0</td>\n",
       "      <td>9.0</td>\n",
       "      <td>11.0</td>\n",
       "      <td>3.0</td>\n",
       "    </tr>\n",
       "    <tr>\n",
       "      <th>r2</th>\n",
       "      <td>11.0</td>\n",
       "      <td>22.0</td>\n",
       "      <td>99.0</td>\n",
       "      <td>121.0</td>\n",
       "      <td>33.0</td>\n",
       "    </tr>\n",
       "    <tr>\n",
       "      <th>r3</th>\n",
       "      <td>111.0</td>\n",
       "      <td>222.0</td>\n",
       "      <td>999.0</td>\n",
       "      <td>1221.0</td>\n",
       "      <td>333.0</td>\n",
       "    </tr>\n",
       "    <tr>\n",
       "      <th>r4</th>\n",
       "      <td>NaN</td>\n",
       "      <td>2222.0</td>\n",
       "      <td>9999.0</td>\n",
       "      <td>12221.0</td>\n",
       "      <td>NaN</td>\n",
       "    </tr>\n",
       "  </tbody>\n",
       "</table>\n",
       "</div>"
      ],
      "text/plain": [
       "      one     two    nine   eleven  three\n",
       "r1    1.0     2.0     9.0     11.0    3.0\n",
       "r2   11.0    22.0    99.0    121.0   33.0\n",
       "r3  111.0   222.0   999.0   1221.0  333.0\n",
       "r4    NaN  2222.0  9999.0  12221.0    NaN"
      ]
     },
     "execution_count": 73,
     "metadata": {},
     "output_type": "execute_result"
    }
   ],
   "source": [
    "d1 = {\n",
    "    'one' : pd.Series([1, 11, 111], index =[ 'r1', 'r2', 'r3'], dtype = float),\n",
    "   'two' : pd.Series([2, 22, 222, 2222], index = [ 'r1', 'r2', 'r3', 'r4'], dtype = float)\n",
    "}\n",
    "dfe = pd.DataFrame(d1)\n",
    "dfe['nine'] = pd.Series([9, 99, 999, 9999], index = ['r1', 'r2', 'r3', 'r4'], dtype = float) # adding a dataframe element\n",
    "dfe['eleven'] = dfe['two'] + dfe['nine'] # creating a new column from two already existing ones\n",
    "dfe['three'] = dfe['one'] + dfe['two'] # look at row 'r3': something + NaN = NaN, always\n",
    "dfe"
   ]
  },
  {
   "cell_type": "code",
   "execution_count": null,
   "metadata": {},
   "outputs": [],
   "source": []
  }
 ],
 "metadata": {
  "kernelspec": {
   "display_name": "Python 3",
   "language": "python",
   "name": "python3"
  },
  "language_info": {
   "codemirror_mode": {
    "name": "ipython",
    "version": 3
   },
   "file_extension": ".py",
   "mimetype": "text/x-python",
   "name": "python",
   "nbconvert_exporter": "python",
   "pygments_lexer": "ipython3",
   "version": "3.7.6"
  }
 },
 "nbformat": 4,
 "nbformat_minor": 4
}
